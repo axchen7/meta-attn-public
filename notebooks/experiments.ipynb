{
 "cells": [
  {
   "cell_type": "code",
   "execution_count": null,
   "id": "5a78bc61",
   "metadata": {},
   "outputs": [],
   "source": [
    "%load_ext autoreload\n",
    "%autoreload 2\n",
    "\n",
    "from mattn import *"
   ]
  },
  {
   "cell_type": "code",
   "execution_count": null,
   "id": "c38b0121",
   "metadata": {},
   "outputs": [],
   "source": [
    "# inputs, embedding_dim = load_inputs(\"../data/wikipedia-v1-plain-query/inputs\")\n",
    "inputs, embedding_dim = load_inputs(\"../data/wikipedia-v2-unrelated-query/inputs\")"
   ]
  },
  {
   "cell_type": "code",
   "execution_count": null,
   "id": "4fca6a5c",
   "metadata": {},
   "outputs": [],
   "source": [
    "# run cell to take inputs where the query and correct document are NOT similar\n",
    "\n",
    "import torch\n",
    "\n",
    "inputs_and_sims = [\n",
    "    torch.dot(\n",
    "        input.query_and_targets.document.embedding,\n",
    "        input.query_and_targets.query.embedding,\n",
    "    ).item()\n",
    "    for input in inputs\n",
    "]\n",
    "\n",
    "sorted_inputs_and_sims = sorted(zip(inputs, inputs_and_sims), key=lambda x: x[1])[\n",
    "    : len(inputs) // 4\n",
    "]\n",
    "\n",
    "inputs = [x[0] for x in sorted_inputs_and_sims]"
   ]
  },
  {
   "cell_type": "code",
   "execution_count": null,
   "id": "0eb1ebc3",
   "metadata": {},
   "outputs": [],
   "source": [
    "model = FeedForwardRelevanceModel(\n",
    "    embedding_dim=embedding_dim,\n",
    "    hidden_dim=128,\n",
    ")\n",
    "\n",
    "train(model, inputs, \"l1\", epochs=50_000, lr=1e-3, one_of_n=[30])"
   ]
  },
  {
   "cell_type": "code",
   "execution_count": null,
   "id": "bd8ba36d",
   "metadata": {},
   "outputs": [],
   "source": [
    "model = LatentEmbeddingRelevanceModel(\n",
    "    embedding_dim=embedding_dim,\n",
    "    latent_dim=8,\n",
    "    hidden_dim=128,\n",
    ")\n",
    "\n",
    "train(model, inputs, \"l1\", epochs=50_000, lr=1e-4, one_of_n=[30])"
   ]
  },
  {
   "cell_type": "code",
   "execution_count": null,
   "id": "7d45935b",
   "metadata": {},
   "outputs": [],
   "source": [
    "model = CosineSimilarityRelevanceModel()\n",
    "\n",
    "train(model, inputs, \"l1\", epochs=1000, lr=1e-1, one_of_n=[30])"
   ]
  }
 ],
 "metadata": {
  "kernelspec": {
   "display_name": "Python 3",
   "language": "python",
   "name": "python3"
  },
  "language_info": {
   "codemirror_mode": {
    "name": "ipython",
    "version": 3
   },
   "file_extension": ".py",
   "mimetype": "text/x-python",
   "name": "python",
   "nbconvert_exporter": "python",
   "pygments_lexer": "ipython3",
   "version": "3.10.12"
  }
 },
 "nbformat": 4,
 "nbformat_minor": 5
}
